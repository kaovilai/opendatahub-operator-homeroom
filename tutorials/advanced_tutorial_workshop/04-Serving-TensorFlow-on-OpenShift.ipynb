{
 "cells": [
  {
   "cell_type": "markdown",
   "metadata": {},
   "source": [
    "## Serving Tensorflow\n",
    "\n",
    "TensorFlow actually has a built-in method to serve models, which is already optimized for use in production. It's also packaged as something that can easily be deployed on top of OpenShift\n",
    "\n",
    "In this notebook, we'll set it up, and use a client to access it"
   ]
  },
  {
   "cell_type": "markdown",
   "metadata": {},
   "source": [
    "First, we can log into the OpenShift cluster we're running on"
   ]
  },
  {
   "cell_type": "code",
   "execution_count": 7,
   "metadata": {},
   "outputs": [
    {
     "name": "stdout",
     "output_type": "stream",
     "text": [
      "Login successful.\n",
      "\n",
      "You have access to 60 projects, the list has been suppressed. You can list all projects with 'oc projects'\n",
      "\n",
      "Using project \"summit-user-6607d53f-fab4-4017-9496-5f253e3393ad\".\n",
      "Already on project \"summit-user-6607d53f-fab4-4017-9496-5f253e3393ad\" on server \"https://api.cluster-7bf4.7bf4.openshiftworkshop.com:6443\".\n"
     ]
    }
   ],
   "source": [
    "!oc login 'https://api.cluster-7bf4.7bf4.openshiftworkshop.com:6443' --username='opentlc-mgr' \\\n",
    "               --password='r3dh4t1!' --insecure-skip-tls-verify='true'\n",
    "!oc project \"summit-user-${JUPYTERHUB_USER}\""
   ]
  },
  {
   "cell_type": "markdown",
   "metadata": {},
   "source": [
    "Now we can create a new OpenShift app. TensorFlow contains support for serving a model stored in S3, so we can take advantage of that to serve the model from"
   ]
  },
  {
   "cell_type": "code",
   "execution_count": 8,
   "metadata": {},
   "outputs": [
    {
     "name": "stdout",
     "output_type": "stream",
     "text": [
      "--> Found Docker image 38bee21 (2 months old) from Docker Hub for \"tensorflow/serving\"\n",
      "\n",
      "    * An image stream tag will be created as \"tf-serving:latest\" that will track this image\n",
      "    * This image will be deployed in deployment config \"tf-serving\"\n",
      "    * Ports 8500/tcp, 8501/tcp will be load balanced by service \"tf-serving\"\n",
      "      * Other containers can access this service through the hostname \"tf-serving\"\n",
      "    * WARNING: Image \"tensorflow/serving\" runs as the 'root' user which may not be permitted by your cluster administrator\n",
      "\n",
      "--> Creating resources ...\n",
      "    deploymentconfig.apps.openshift.io \"tf-serving\" created\n",
      "    service \"tf-serving\" created\n",
      "--> Success\n",
      "    Application is not exposed. You can expose services to the outside world by executing one or more of the commands below:\n",
      "     'oc expose svc/tf-serving' \n",
      "    Run 'oc status' to view your app.\n"
     ]
    }
   ],
   "source": [
    "!oc new-app --name=\"tf-serving\" \\\n",
    "             --docker-image=\"tensorflow/serving\" \\\n",
    "             -e MODEL_BASE_PATH=\"s3://${JUPYTERHUB_USER}\" \\\n",
    "             -e MODEL_NAME=\"mnist-model\" \\\n",
    "             -e AWS_LOG_LEVEL=3 \\\n",
    "             -e AWS_ACCESS_KEY_ID=\"${ACCESSKEY}\" \\\n",
    "             -e AWS_SECRET_ACCESS_KEY=\"${SECRETKEY}\" \\\n",
    "             -e AWS_REGION=\"us-east-1\" \\\n",
    "             -e S3_ENDPOINT=\"$(echo ${RGW_API_ENDPOINT} | sed 's%http://%%')\" \\\n",
    "             -e S3_USE_HTTPS=0 \\\n",
    "             -e S3_VERIFY_SSL=0"
   ]
  },
  {
   "cell_type": "markdown",
   "metadata": {},
   "source": [
    "The port needs to be exposed, since it exposes multiple ports, we'll redirect 8501 (the JSON api) to 80 for ease of use. This will allow us to verify it works via the browser."
   ]
  },
  {
   "cell_type": "code",
   "execution_count": 9,
   "metadata": {},
   "outputs": [
    {
     "name": "stdout",
     "output_type": "stream",
     "text": [
      "route.route.openshift.io/tf-serving exposed\r\n"
     ]
    }
   ],
   "source": [
    "!oc expose svc/tf-serving --port 8501"
   ]
  },
  {
   "cell_type": "markdown",
   "metadata": {},
   "source": [
    "Using `oc status` will let us see the URL that is exposed. Navigating to the url in the browser should return a 404, so instead navigate to `/v1/models/mnist-model`. It should return some metadata about the service"
   ]
  },
  {
   "cell_type": "code",
   "execution_count": 10,
   "metadata": {},
   "outputs": [
    {
     "name": "stdout",
     "output_type": "stream",
     "text": [
      "http://tf-serving-summit-user-6607d53f-fab4-4017-9496-5f253e3393ad.apps.cluster-7bf4.7bf4.openshiftworkshop.com to pod port 8501 (svc/tf-serving)\r\n",
      "  dc/tf-serving deploys istag/tf-serving:latest \r\n"
     ]
    }
   ],
   "source": [
    "!oc status | grep tf-serving"
   ]
  },
  {
   "cell_type": "markdown",
   "metadata": {},
   "source": [
    "We can also double check it by curling the internal url or hostname, for which we'll want to use the internal port 8501"
   ]
  },
  {
   "cell_type": "code",
   "execution_count": 12,
   "metadata": {},
   "outputs": [
    {
     "name": "stdout",
     "output_type": "stream",
     "text": [
      "{\r\n",
      " \"model_version_status\": [\r\n",
      "  {\r\n",
      "   \"version\": \"1557258102\",\r\n",
      "   \"state\": \"AVAILABLE\",\r\n",
      "   \"status\": {\r\n",
      "    \"error_code\": \"OK\",\r\n",
      "    \"error_message\": \"\"\r\n",
      "   }\r\n",
      "  }\r\n",
      " ]\r\n",
      "}\r\n"
     ]
    }
   ],
   "source": [
    "!curl \"$(oc get services | grep 'tf-serving' | awk '{print $3}'):8501/v1/models/mnist-model\""
   ]
  },
  {
   "cell_type": "markdown",
   "metadata": {},
   "source": [
    "### Testing the model with a Flask App\n",
    "\n",
    "To show some interactive testing, we have developed a small webapp that allows a user to draw a digit by hand and submit it to the model for classification.\n",
    "\n",
    "The model takes in the image, greyscales it, pads it, normalizes it, etc, and transforms it into the format that the model expects, then POSTs it to the model's API"
   ]
  },
  {
   "cell_type": "code",
   "execution_count": 13,
   "metadata": {},
   "outputs": [
    {
     "name": "stdout",
     "output_type": "stream",
     "text": [
      "--> Found Docker image cecf794 (2 hours old) from quay.io for \"quay.io/llasmith/summit-workshop-flask-mnist:latest\"\n",
      "\n",
      "    * An image stream tag will be created as \"mnist-flask:latest\" that will track this image\n",
      "    * This image will be deployed in deployment config \"mnist-flask\"\n",
      "    * Port 5000/tcp will be load balanced by service \"mnist-flask\"\n",
      "      * Other containers can access this service through the hostname \"mnist-flask\"\n",
      "    * WARNING: Image \"quay.io/llasmith/summit-workshop-flask-mnist:latest\" runs as the 'root' user which may not be permitted by your cluster administrator\n",
      "\n",
      "--> Creating resources ...\n",
      "    deploymentconfig.apps.openshift.io \"mnist-flask\" created\n",
      "    service \"mnist-flask\" created\n",
      "--> Success\n",
      "    Application is not exposed. You can expose services to the outside world by executing one or more of the commands below:\n",
      "     'oc expose svc/mnist-flask' \n",
      "    Run 'oc status' to view your app.\n",
      "route.route.openshift.io/mnist-flask exposed\n"
     ]
    }
   ],
   "source": [
    "!oc new-app --name \"mnist-flask\" \"quay.io/llasmith/summit-workshop-flask-mnist:latest\"\n",
    "!oc expose svc/mnist-flask"
   ]
  },
  {
   "cell_type": "markdown",
   "metadata": {},
   "source": [
    "To really experience the model, navigate to the URL that we exposed in the browser\n",
    "\n",
    "Note: The app may take a few moments to spin up"
   ]
  },
  {
   "cell_type": "code",
   "execution_count": 14,
   "metadata": {},
   "outputs": [
    {
     "name": "stdout",
     "output_type": "stream",
     "text": [
      "http://mnist-flask-summit-user-6607d53f-fab4-4017-9496-5f253e3393ad.apps.cluster-7bf4.7bf4.openshiftworkshop.com to pod port 5000-tcp (svc/mnist-flask)\r\n",
      "  dc/mnist-flask deploys istag/mnist-flask:latest \r\n"
     ]
    }
   ],
   "source": [
    "!oc status | grep mnist"
   ]
  }
 ],
 "metadata": {
  "kernelspec": {
   "display_name": "Python 3",
   "language": "python",
   "name": "python3"
  },
  "language_info": {
   "codemirror_mode": {
    "name": "ipython",
    "version": 3
   },
   "file_extension": ".py",
   "mimetype": "text/x-python",
   "name": "python",
   "nbconvert_exporter": "python",
   "pygments_lexer": "ipython3",
   "version": "3.6.3"
  }
 },
 "nbformat": 4,
 "nbformat_minor": 2
}
