{
 "cells": [
  {
   "cell_type": "markdown",
   "metadata": {},
   "source": [
    "## Serving Tensorflow\n",
    "\n",
    "TensorFlow actually has a built-in method to serve models, which is already optimized for use in production. It's also packaged as something that can easily be deployed on top of OpenShift\n",
    "\n",
    "In this notebook, we'll set it up, and use a client to access it"
   ]
  },
  {
   "cell_type": "markdown",
   "metadata": {},
   "source": [
    "First, we can log into the OpenShift cluster we're running on"
   ]
  },
  {
   "cell_type": "code",
   "execution_count": null,
   "metadata": {},
   "outputs": [],
   "source": [
    "!oc login \"${OC_API_URL}\" --username=\"${OC_USER}\" \\\n",
    "               --password=\"${OC_PASSWORD}\" --insecure-skip-tls-verify='true'\n",
    "!oc new-project \"summit-user-${JUPYTERHUB_USER}\""
   ]
  },
  {
   "cell_type": "markdown",
   "metadata": {},
   "source": [
    "Now we can create a new OpenShift app. TensorFlow contains support for serving a model stored in S3, so we can take advantage of that to serve the model from"
   ]
  },
  {
   "cell_type": "code",
   "execution_count": null,
   "metadata": {},
   "outputs": [],
   "source": [
    "!oc new-app --name=\"tf-serving\" \\\n",
    "             --docker-image=\"tensorflow/serving\" \\\n",
    "             -e MODEL_BASE_PATH=\"s3://${JUPYTERHUB_USER}\" \\\n",
    "             -e MODEL_NAME=\"mnist-model\" \\\n",
    "             -e AWS_LOG_LEVEL=3 \\\n",
    "             -e AWS_ACCESS_KEY_ID=\"${AWS_ACCESS_KEY_ID}\" \\\n",
    "             -e AWS_SECRET_ACCESS_KEY=\"${AWS_SECRET_ACCESS_KEY}\" \\\n",
    "             -e AWS_REGION=\"us-east-1\" \\\n",
    "             -e S3_ENDPOINT=\"$(echo ${S3_ENDPOINT} | sed 's%http://%%')\" \\\n",
    "             -e S3_USE_HTTPS=0 \\\n",
    "             -e S3_VERIFY_SSL=0"
   ]
  },
  {
   "cell_type": "markdown",
   "metadata": {},
   "source": [
    "The port needs to be exposed, since it exposes multiple ports, we'll redirect 8501 (the JSON api) to 80 for ease of use. This will allow us to verify it works via the browser."
   ]
  },
  {
   "cell_type": "code",
   "execution_count": null,
   "metadata": {},
   "outputs": [],
   "source": [
    "!oc expose svc/tf-serving --port 8501"
   ]
  },
  {
   "cell_type": "markdown",
   "metadata": {},
   "source": [
    "Using `oc status` will let us see the URL that is exposed. Navigating to the url in the browser should return a 404, so instead navigate to `/v1/models/mnist-model`. It should return some metadata about the service"
   ]
  },
  {
   "cell_type": "code",
   "execution_count": null,
   "metadata": {},
   "outputs": [],
   "source": [
    "!oc status | grep tf-serving"
   ]
  },
  {
   "cell_type": "markdown",
   "metadata": {},
   "source": [
    "We can also double check it by curling the internal url or hostname, for which we'll want to use the internal port 8501"
   ]
  },
  {
   "cell_type": "code",
   "execution_count": null,
   "metadata": {},
   "outputs": [],
   "source": [
    "!curl \"$(oc get services | grep 'tf-serving' | awk '{print $3}'):8501/v1/models/mnist-model\""
   ]
  },
  {
   "cell_type": "markdown",
   "metadata": {},
   "source": [
    "### Testing the model with a Flask App\n",
    "\n",
    "To show some interactive testing, we have developed a small webapp that allows a user to draw a digit by hand and submit it to the model for classification.\n",
    "\n",
    "The model takes in the image, greyscales it, pads it, normalizes it, etc, and transforms it into the format that the model expects, then POSTs it to the model's API"
   ]
  },
  {
   "cell_type": "code",
   "execution_count": null,
   "metadata": {},
   "outputs": [],
   "source": [
    "!oc new-app --name \"mnist-flask\" \"quay.io/llasmith/summit-workshop-flask-mnist:latest\"\n",
    "!oc expose svc/mnist-flask"
   ]
  },
  {
   "cell_type": "markdown",
   "metadata": {},
   "source": [
    "To really experience the model, navigate to the URL that we exposed in the browser\n",
    "\n",
    "Note: The app may take a few moments to spin up"
   ]
  },
  {
   "cell_type": "code",
   "execution_count": null,
   "metadata": {},
   "outputs": [],
   "source": [
    "!oc status | grep mnist"
   ]
  }
 ],
 "metadata": {
  "kernelspec": {
   "display_name": "Python 3",
   "language": "python",
   "name": "python3"
  },
  "language_info": {
   "codemirror_mode": {
    "name": "ipython",
    "version": 3
   },
   "file_extension": ".py",
   "mimetype": "text/x-python",
   "name": "python",
   "nbconvert_exporter": "python",
   "pygments_lexer": "ipython3",
   "version": "3.6.3"
  }
 },
 "nbformat": 4,
 "nbformat_minor": 2
}
